{
 "cells": [
  {
   "cell_type": "markdown",
   "id": "fd4a0565-283e-4e51-94ff-027fddc4d1d5",
   "metadata": {},
   "source": [
    "# NUMPY FIRST CODE\n"
   ]
  },
  {
   "cell_type": "markdown",
   "id": "782f75a4-2293-40f9-b690-49e045702d13",
   "metadata": {},
   "source": [
    "* NumPy is a Python library that provides support for large, multi-dimensional arrays and matrices, along with a collection of mathematical functions to operate on these arrays. It is one of the fundamental packages for numerical computing in Python.\n",
    "\n",
    "Some key features of NumPy include:\n",
    "\n",
    "Multidimensional array object: NumPy provides a powerful ndarray object, which is a multi-dimensional array that can hold elements of the same type.                                   These arrays can be one-dimensional, two-dimensional, or multi-dimensional.\n",
    "\n",
    "Array operations: NumPy provides a wide range of mathematical functions that operate on arrays element-wise, making it easy to perform numerical                          computations. These operations are implemented efficiently in compiled C code, making NumPy much faster than Python lists for                           numerical computations.\n",
    "\n",
    "Broadcasting: NumPy allows for arithmetic operations between arrays of different shapes and sizes through a mechanism called broadcasting. This                       simplifies the writing of code and eliminates the need for explicit loops over array elements.\n",
    "\n",
    "Linear algebra operations: NumPy provides functions for linear algebra operations such as matrix multiplication, matrix inversion, eigenvalue                                      decomposition, singular value decomposition, and more.\n",
    "\n",
    "Random number generation: NumPy includes a submodule numpy.random for generating random numbers with various probability distributions.\n",
    "                          Integration with other libraries: NumPy is the foundation for many other Python libraries used in scientific computing and                              data analysis, such as SciPy, pandas, matplotlib, and scikit-learn. "
   ]
  },
  {
   "cell_type": "code",
   "execution_count": 1,
   "id": "7812ad10-babe-40d9-8f0d-465145138140",
   "metadata": {},
   "outputs": [],
   "source": [
    "import numpy as np"
   ]
  },
  {
   "cell_type": "code",
   "execution_count": 2,
   "id": "41fbc694-0616-44c6-a9b2-cc7f9fb4cb9b",
   "metadata": {},
   "outputs": [],
   "source": [
    "Myarr = np.array([0,1,2,3,4,5,6,7],np.int8) #This is one dimensional array and (np.int8) means \n",
    "                                            #hammare array ke ander 8 bit ki values he aaynge dont take too big values."
   ]
  },
  {
   "cell_type": "code",
   "execution_count": 3,
   "id": "74de5543-2749-4f50-921a-2195397be88c",
   "metadata": {},
   "outputs": [
    {
     "data": {
      "text/plain": [
       "array([0, 1, 2, 3, 4, 5, 6, 7], dtype=int8)"
      ]
     },
     "execution_count": 3,
     "metadata": {},
     "output_type": "execute_result"
    }
   ],
   "source": [
    "Myarr"
   ]
  },
  {
   "cell_type": "code",
   "execution_count": 4,
   "id": "91507990-62ee-487a-afc7-550651f97a21",
   "metadata": {},
   "outputs": [
    {
     "name": "stdout",
     "output_type": "stream",
     "text": [
      "[0 1 2 3 4 5 6 7]\n"
     ]
    }
   ],
   "source": [
    "print(Myarr)"
   ]
  },
  {
   "cell_type": "code",
   "execution_count": 5,
   "id": "0b210d10-acbf-4e4b-a936-848ad3619a5e",
   "metadata": {},
   "outputs": [],
   "source": [
    "Myarr2 = np.array([[0,1,2,3,4,5],[00,11,22,33,44,55]],np.int16) #This is creation of 2 dimentional array\n",
    "                                                                #where []The number of list is numer of rows\n",
    "                                                                #and the values are number of columns."
   ]
  },
  {
   "cell_type": "code",
   "execution_count": 6,
   "id": "aaa5ad7e-d00e-4b48-9aa6-655a373f915f",
   "metadata": {},
   "outputs": [
    {
     "data": {
      "text/plain": [
       "1"
      ]
     },
     "execution_count": 6,
     "metadata": {},
     "output_type": "execute_result"
    }
   ],
   "source": [
    "Myarr2[0,1]"
   ]
  },
  {
   "cell_type": "code",
   "execution_count": 7,
   "id": "323426e8-9f43-427d-8743-90f4ca915ad6",
   "metadata": {},
   "outputs": [
    {
     "data": {
      "text/plain": [
       "0"
      ]
     },
     "execution_count": 7,
     "metadata": {},
     "output_type": "execute_result"
    }
   ],
   "source": [
    "Myarr2[1,0]"
   ]
  },
  {
   "cell_type": "code",
   "execution_count": 8,
   "id": "4113f380-cc9b-4cbb-ae1e-3220bf163298",
   "metadata": {},
   "outputs": [
    {
     "data": {
      "text/plain": [
       "11"
      ]
     },
     "execution_count": 8,
     "metadata": {},
     "output_type": "execute_result"
    }
   ],
   "source": [
    "Myarr2[1,1]"
   ]
  },
  {
   "cell_type": "code",
   "execution_count": 9,
   "id": "74089dd6-cb09-4235-8634-7bc0980cb3f9",
   "metadata": {},
   "outputs": [
    {
     "data": {
      "text/plain": [
       "dtype('int16')"
      ]
     },
     "execution_count": 9,
     "metadata": {},
     "output_type": "execute_result"
    }
   ],
   "source": [
    "Myarr2.dtype #Using the dtype you can get the date type of your array that you have created"
   ]
  },
  {
   "cell_type": "code",
   "execution_count": 10,
   "id": "58176340-fe52-4481-b03b-8210645a4b4f",
   "metadata": {},
   "outputs": [],
   "source": [
    "Myarr2[1,0] = 88 #Like this we can update the value of our array in numpy"
   ]
  },
  {
   "cell_type": "code",
   "execution_count": 11,
   "id": "4cc35ee4-6802-423b-b78f-f3fc0875c281",
   "metadata": {},
   "outputs": [
    {
     "data": {
      "text/plain": [
       "array([[ 0,  1,  2,  3,  4,  5],\n",
       "       [88, 11, 22, 33, 44, 55]], dtype=int16)"
      ]
     },
     "execution_count": 11,
     "metadata": {},
     "output_type": "execute_result"
    }
   ],
   "source": [
    "Myarr2"
   ]
  },
  {
   "cell_type": "code",
   "execution_count": 12,
   "id": "7476367a-d17c-495e-8158-9b1650f1cda6",
   "metadata": {},
   "outputs": [
    {
     "data": {
      "text/plain": [
       "(2, 6)"
      ]
     },
     "execution_count": 12,
     "metadata": {},
     "output_type": "execute_result"
    }
   ],
   "source": [
    "Myarr2.shape #This will give the shape of our array row and column wise"
   ]
  },
  {
   "cell_type": "code",
   "execution_count": 13,
   "id": "b66226eb-f557-4465-9bcf-82001cbfb57c",
   "metadata": {},
   "outputs": [
    {
     "data": {
      "text/plain": [
       "12"
      ]
     },
     "execution_count": 13,
     "metadata": {},
     "output_type": "execute_result"
    }
   ],
   "source": [
    "Myarr2.size #This is will give the length or number of elements present in array"
   ]
  },
  {
   "cell_type": "markdown",
   "id": "aa8020ad-1372-4bee-b9e0-572cd7ef09c8",
   "metadata": {},
   "source": [
    "# Array creation: 1) Conversion from other python structures"
   ]
  },
  {
   "cell_type": "code",
   "execution_count": 14,
   "id": "a8418cab-1f6d-42f5-86a3-8ce0bd52bde6",
   "metadata": {},
   "outputs": [],
   "source": [
    "listarray = np.array([[0,1,2,3], [10,11,12,13],[20,21,22,23]])"
   ]
  },
  {
   "cell_type": "code",
   "execution_count": 15,
   "id": "a5993742-686d-4161-bf8c-ddb515c70554",
   "metadata": {},
   "outputs": [
    {
     "data": {
      "text/plain": [
       "array([[ 0,  1,  2,  3],\n",
       "       [10, 11, 12, 13],\n",
       "       [20, 21, 22, 23]])"
      ]
     },
     "execution_count": 15,
     "metadata": {},
     "output_type": "execute_result"
    }
   ],
   "source": [
    "listarray"
   ]
  },
  {
   "cell_type": "code",
   "execution_count": 16,
   "id": "f3138501-a962-4124-8369-6f959567eec0",
   "metadata": {},
   "outputs": [
    {
     "data": {
      "text/plain": [
       "dtype('int32')"
      ]
     },
     "execution_count": 16,
     "metadata": {},
     "output_type": "execute_result"
    }
   ],
   "source": [
    "listarray.dtype"
   ]
  },
  {
   "cell_type": "code",
   "execution_count": 17,
   "id": "463a5095-27bf-437d-891c-eab251b8e76a",
   "metadata": {},
   "outputs": [
    {
     "data": {
      "text/plain": [
       "12"
      ]
     },
     "execution_count": 17,
     "metadata": {},
     "output_type": "execute_result"
    }
   ],
   "source": [
    "listarray.size"
   ]
  },
  {
   "cell_type": "code",
   "execution_count": 18,
   "id": "4f2cbc72-a493-4e03-bc39-52aa5082575a",
   "metadata": {},
   "outputs": [
    {
     "data": {
      "text/plain": [
       "(3, 4)"
      ]
     },
     "execution_count": 18,
     "metadata": {},
     "output_type": "execute_result"
    }
   ],
   "source": [
    "listarray.shape"
   ]
  },
  {
   "cell_type": "code",
   "execution_count": 19,
   "id": "44cd2512-755e-47bd-98bc-70a46672d0da",
   "metadata": {},
   "outputs": [
    {
     "data": {
      "text/plain": [
       "array({1, 2, 3}, dtype=object)"
      ]
     },
     "execution_count": 19,
     "metadata": {},
     "output_type": "execute_result"
    }
   ],
   "source": [
    "np.array({1,2,3}) #creating dtype = object array are not efficient in numpy python"
   ]
  },
  {
   "cell_type": "markdown",
   "id": "cd4148c5-3229-4a3b-8877-f8bfa87f9f42",
   "metadata": {},
   "source": [
    "# 2) Intrinsic NumPy array creation functions (e.g. arange, ones, zeros, etc.)"
   ]
  },
  {
   "cell_type": "code",
   "execution_count": 20,
   "id": "cefbde74-9af6-46f3-88a6-42f7595cc7ee",
   "metadata": {},
   "outputs": [],
   "source": [
    "zeros = np.zeros((2,3)) #This will create (2,3) shape 2D array in which all the values are 0. in float"
   ]
  },
  {
   "cell_type": "code",
   "execution_count": 21,
   "id": "8ff68049-6d68-419b-be30-c0007f8ca24c",
   "metadata": {},
   "outputs": [
    {
     "data": {
      "text/plain": [
       "array([[0., 0., 0.],\n",
       "       [0., 0., 0.]])"
      ]
     },
     "execution_count": 21,
     "metadata": {},
     "output_type": "execute_result"
    }
   ],
   "source": [
    "\n",
    "zeros"
   ]
  },
  {
   "cell_type": "code",
   "execution_count": 22,
   "id": "0dce6faf-bc55-4422-90d2-02b0a5630cf5",
   "metadata": {},
   "outputs": [
    {
     "data": {
      "text/plain": [
       "6"
      ]
     },
     "execution_count": 22,
     "metadata": {},
     "output_type": "execute_result"
    }
   ],
   "source": [
    "zeros.size"
   ]
  },
  {
   "cell_type": "code",
   "execution_count": 23,
   "id": "57d9c4c7-7344-40a1-ae7d-bd4cd9bfccd1",
   "metadata": {},
   "outputs": [],
   "source": [
    "arang = np.arange(15) #This will create a 1D array from 0 to 14(arange value -1)"
   ]
  },
  {
   "cell_type": "code",
   "execution_count": 24,
   "id": "e4ddd41a-a636-490f-bed3-480730323e5d",
   "metadata": {},
   "outputs": [
    {
     "data": {
      "text/plain": [
       "array([ 0,  1,  2,  3,  4,  5,  6,  7,  8,  9, 10, 11, 12, 13, 14])"
      ]
     },
     "execution_count": 24,
     "metadata": {},
     "output_type": "execute_result"
    }
   ],
   "source": [
    "arang"
   ]
  },
  {
   "cell_type": "code",
   "execution_count": 25,
   "id": "14ec8e44-905c-4768-9030-8ac0287ca5d8",
   "metadata": {},
   "outputs": [],
   "source": [
    "lnspace = np.linspace(1,5,8) # This will create an numpy 1D array respectively(first number of array, last number of array, number of elements in array)\n",
    "                             # i.e (1,5,8) and the space between all the elements are equal with data type float.\n"
   ]
  },
  {
   "cell_type": "code",
   "execution_count": 26,
   "id": "55f86e29-accf-40d0-859e-18ac31ddf731",
   "metadata": {},
   "outputs": [
    {
     "data": {
      "text/plain": [
       "array([1.        , 1.57142857, 2.14285714, 2.71428571, 3.28571429,\n",
       "       3.85714286, 4.42857143, 5.        ])"
      ]
     },
     "execution_count": 26,
     "metadata": {},
     "output_type": "execute_result"
    }
   ],
   "source": [
    "lnspace"
   ]
  },
  {
   "cell_type": "code",
   "execution_count": 27,
   "id": "67eaf80b-a96e-451c-b7ca-493b0f343a85",
   "metadata": {},
   "outputs": [],
   "source": [
    "empty = np.empty((2,6)) #This will create empty numpy array shape of (2,6) and the values are all rendom inside the array."
   ]
  },
  {
   "cell_type": "code",
   "execution_count": 28,
   "id": "7c547aec-45d6-4ac0-9c8c-2442c5779868",
   "metadata": {},
   "outputs": [
    {
     "data": {
      "text/plain": [
       "array([[1.01055453e-311, 2.81617418e-322, 0.00000000e+000,\n",
       "        0.00000000e+000, 1.11260619e-306, 1.61590357e+184],\n",
       "       [4.71080907e-090, 4.27629914e-033, 6.54774225e-043,\n",
       "        1.36967060e-071, 6.48224660e+170, 4.93432906e+257]])"
      ]
     },
     "execution_count": 28,
     "metadata": {},
     "output_type": "execute_result"
    }
   ],
   "source": [
    "empty"
   ]
  },
  {
   "cell_type": "code",
   "execution_count": 29,
   "id": "8cec12e6-7267-4c69-bef4-be7a2c6c6281",
   "metadata": {},
   "outputs": [],
   "source": [
    "empty_like = np.empty_like(arang) #This will create an empty array same as \"arang\" array which we have created before and the values are random."
   ]
  },
  {
   "cell_type": "code",
   "execution_count": 30,
   "id": "192927a9-781e-4c43-8b7c-33c9c0ca2071",
   "metadata": {},
   "outputs": [
    {
     "data": {
      "text/plain": [
       "array([3801155, 5570652, 6619251, 7536754, 4259932, 6881380, 7929972,\n",
       "       6029409, 7340097, 4456560, 7602273, 6029409, 7274572, 6357091,\n",
       "       6029420])"
      ]
     },
     "execution_count": 30,
     "metadata": {},
     "output_type": "execute_result"
    }
   ],
   "source": [
    "empty_like"
   ]
  },
  {
   "cell_type": "code",
   "execution_count": 31,
   "id": "4e25f30c-6cdf-49e3-a510-34e2dc56c4a9",
   "metadata": {},
   "outputs": [],
   "source": [
    "identity = np.identity(37)#This will create (37,37) shape identity matrix for us"
   ]
  },
  {
   "cell_type": "code",
   "execution_count": 32,
   "id": "2515e385-899d-450d-a155-4609a89cee3b",
   "metadata": {},
   "outputs": [
    {
     "data": {
      "text/plain": [
       "array([[1., 0., 0., ..., 0., 0., 0.],\n",
       "       [0., 1., 0., ..., 0., 0., 0.],\n",
       "       [0., 0., 1., ..., 0., 0., 0.],\n",
       "       ...,\n",
       "       [0., 0., 0., ..., 1., 0., 0.],\n",
       "       [0., 0., 0., ..., 0., 1., 0.],\n",
       "       [0., 0., 0., ..., 0., 0., 1.]])"
      ]
     },
     "execution_count": 32,
     "metadata": {},
     "output_type": "execute_result"
    }
   ],
   "source": [
    "identity"
   ]
  },
  {
   "cell_type": "code",
   "execution_count": 33,
   "id": "84c31f24-0019-4ded-9db1-14de2bb91618",
   "metadata": {},
   "outputs": [],
   "source": [
    "arr = np.arange(99) #We have created an array from (0 to 98) 1D numpy array."
   ]
  },
  {
   "cell_type": "code",
   "execution_count": 34,
   "id": "22f24984-85d0-4795-9d9f-a4c53e474e98",
   "metadata": {},
   "outputs": [
    {
     "data": {
      "text/plain": [
       "array([ 0,  1,  2,  3,  4,  5,  6,  7,  8,  9, 10, 11, 12, 13, 14, 15, 16,\n",
       "       17, 18, 19, 20, 21, 22, 23, 24, 25, 26, 27, 28, 29, 30, 31, 32, 33,\n",
       "       34, 35, 36, 37, 38, 39, 40, 41, 42, 43, 44, 45, 46, 47, 48, 49, 50,\n",
       "       51, 52, 53, 54, 55, 56, 57, 58, 59, 60, 61, 62, 63, 64, 65, 66, 67,\n",
       "       68, 69, 70, 71, 72, 73, 74, 75, 76, 77, 78, 79, 80, 81, 82, 83, 84,\n",
       "       85, 86, 87, 88, 89, 90, 91, 92, 93, 94, 95, 96, 97, 98])"
      ]
     },
     "execution_count": 34,
     "metadata": {},
     "output_type": "execute_result"
    }
   ],
   "source": [
    "arr"
   ]
  },
  {
   "cell_type": "code",
   "execution_count": 35,
   "id": "30b28cc6-2d06-489e-b0aa-08b3025e757e",
   "metadata": {},
   "outputs": [],
   "source": [
    "arr = arr.reshape(3,33) #This method reshape the 1D array into desirable shape(2D or 3D) array\n",
    "                  #but the limit is the array size or all the elements in array should meet the shape of array which you wnat to create\n",
    "                  #Exampele -> here the elements are 99 so we can make (3x33) shape array because (3x33 = 99)"
   ]
  },
  {
   "cell_type": "code",
   "execution_count": 36,
   "id": "b3186573-80aa-424e-956f-f90b7ac81f57",
   "metadata": {},
   "outputs": [
    {
     "data": {
      "text/plain": [
       "array([[ 0,  1,  2,  3,  4,  5,  6,  7,  8,  9, 10, 11, 12, 13, 14, 15,\n",
       "        16, 17, 18, 19, 20, 21, 22, 23, 24, 25, 26, 27, 28, 29, 30, 31,\n",
       "        32],\n",
       "       [33, 34, 35, 36, 37, 38, 39, 40, 41, 42, 43, 44, 45, 46, 47, 48,\n",
       "        49, 50, 51, 52, 53, 54, 55, 56, 57, 58, 59, 60, 61, 62, 63, 64,\n",
       "        65],\n",
       "       [66, 67, 68, 69, 70, 71, 72, 73, 74, 75, 76, 77, 78, 79, 80, 81,\n",
       "        82, 83, 84, 85, 86, 87, 88, 89, 90, 91, 92, 93, 94, 95, 96, 97,\n",
       "        98]])"
      ]
     },
     "execution_count": 36,
     "metadata": {},
     "output_type": "execute_result"
    }
   ],
   "source": [
    "arr #here arr is changed because we update the arr using the reshape function"
   ]
  },
  {
   "cell_type": "code",
   "execution_count": 37,
   "id": "0626a369-36cc-4606-974f-7fafed9a3720",
   "metadata": {},
   "outputs": [
    {
     "data": {
      "text/plain": [
       "(3, 33)"
      ]
     },
     "execution_count": 37,
     "metadata": {},
     "output_type": "execute_result"
    }
   ],
   "source": [
    "arr.shape #Here the shape changes"
   ]
  },
  {
   "cell_type": "code",
   "execution_count": 38,
   "id": "6d930470-c4d3-4dcc-a727-4385062fe53c",
   "metadata": {},
   "outputs": [],
   "source": [
    "arr = arr.ravel()"
   ]
  },
  {
   "cell_type": "code",
   "execution_count": 39,
   "id": "79cb81ca-bb61-4320-b004-55335394df87",
   "metadata": {},
   "outputs": [
    {
     "data": {
      "text/plain": [
       "array([ 0,  1,  2,  3,  4,  5,  6,  7,  8,  9, 10, 11, 12, 13, 14, 15, 16,\n",
       "       17, 18, 19, 20, 21, 22, 23, 24, 25, 26, 27, 28, 29, 30, 31, 32, 33,\n",
       "       34, 35, 36, 37, 38, 39, 40, 41, 42, 43, 44, 45, 46, 47, 48, 49, 50,\n",
       "       51, 52, 53, 54, 55, 56, 57, 58, 59, 60, 61, 62, 63, 64, 65, 66, 67,\n",
       "       68, 69, 70, 71, 72, 73, 74, 75, 76, 77, 78, 79, 80, 81, 82, 83, 84,\n",
       "       85, 86, 87, 88, 89, 90, 91, 92, 93, 94, 95, 96, 97, 98])"
      ]
     },
     "execution_count": 39,
     "metadata": {},
     "output_type": "execute_result"
    }
   ],
   "source": [
    "arr #here the arr become again the orignal before reshaped() array which we created using the ravel() method."
   ]
  },
  {
   "cell_type": "code",
   "execution_count": 40,
   "id": "d1225740-eadb-4eb0-bdb2-41c09e903c4e",
   "metadata": {},
   "outputs": [
    {
     "data": {
      "text/plain": [
       "(99,)"
      ]
     },
     "execution_count": 40,
     "metadata": {},
     "output_type": "execute_result"
    }
   ],
   "source": [
    "arr.shape #Now we retain the orignal shape of the arr numpy array."
   ]
  },
  {
   "cell_type": "markdown",
   "id": "debdd720-e9de-49d8-8fc3-65c72e32e69b",
   "metadata": {},
   "source": [
    "# NUMPY AXIS"
   ]
  },
  {
   "cell_type": "markdown",
   "id": "6a3bd196-914d-42a2-9cf9-58b98912caa8",
   "metadata": {},
   "source": [
    "* check notes in microsoft notebook"
   ]
  },
  {
   "cell_type": "code",
   "execution_count": 41,
   "id": "ca42c365-5729-4af9-bc40-9915d595acf9",
   "metadata": {},
   "outputs": [],
   "source": [
    "lis = [[1,2,3], [4,5,6], [7,1,0]]"
   ]
  },
  {
   "cell_type": "code",
   "execution_count": 42,
   "id": "fb25b7f7-1a58-4a21-8218-c2e8e8a6b788",
   "metadata": {},
   "outputs": [],
   "source": [
    "ar = np.array(lis)"
   ]
  },
  {
   "cell_type": "code",
   "execution_count": 43,
   "id": "8dcbc767-ca27-4e4c-84dc-0e3bf5e9ad0d",
   "metadata": {},
   "outputs": [
    {
     "data": {
      "text/plain": [
       "array([[1, 2, 3],\n",
       "       [4, 5, 6],\n",
       "       [7, 1, 0]])"
      ]
     },
     "execution_count": 43,
     "metadata": {},
     "output_type": "execute_result"
    }
   ],
   "source": [
    "ar"
   ]
  },
  {
   "cell_type": "code",
   "execution_count": 44,
   "id": "e5aa6de3-b6c8-4dfe-8bf5-81a302480d69",
   "metadata": {},
   "outputs": [
    {
     "data": {
      "text/plain": [
       "array([12,  8,  9])"
      ]
     },
     "execution_count": 44,
     "metadata": {},
     "output_type": "execute_result"
    }
   ],
   "source": [
    "ar.sum(axis = 0) #so, axis 0 represent or extends the rows and we are adding the so ,\n",
    "                 #we are doing the sum of the value  like (1+4+7) = 12 so on..."
   ]
  },
  {
   "cell_type": "code",
   "execution_count": 45,
   "id": "fdfa8376-89dc-4537-bc55-5a8c7511997b",
   "metadata": {},
   "outputs": [
    {
     "data": {
      "text/plain": [
       "array([ 6, 15,  8])"
      ]
     },
     "execution_count": 45,
     "metadata": {},
     "output_type": "execute_result"
    }
   ],
   "source": [
    "ar.sum(axis = 1) #axis 1 represent the columns and we are doint the sum i.e -> 1+2+3 = 6 so.. continue ..."
   ]
  },
  {
   "cell_type": "markdown",
   "id": "f883b652-c997-439e-bab1-50daa591784f",
   "metadata": {},
   "source": [
    "# Attributes of numpy"
   ]
  },
  {
   "cell_type": "code",
   "execution_count": 46,
   "id": "009b7659-ca33-4b9a-aa06-57964116cb26",
   "metadata": {},
   "outputs": [
    {
     "data": {
      "text/plain": [
       "array([[1, 4, 7],\n",
       "       [2, 5, 1],\n",
       "       [3, 6, 0]])"
      ]
     },
     "execution_count": 46,
     "metadata": {},
     "output_type": "execute_result"
    }
   ],
   "source": [
    "ar.T #This will do the transpose of our matrix i.e rows into columns and vise-versa"
   ]
  },
  {
   "cell_type": "code",
   "execution_count": 47,
   "id": "f3f01e8d-c0b3-43e3-af6d-ab64d6a2954f",
   "metadata": {},
   "outputs": [
    {
     "data": {
      "text/plain": [
       "<numpy.flatiter at 0x1dc3a5f43e0>"
      ]
     },
     "execution_count": 47,
     "metadata": {},
     "output_type": "execute_result"
    }
   ],
   "source": [
    "ar.flat #This will provide us a iterator which we can used in for loop to acess the elements of the matrix."
   ]
  },
  {
   "cell_type": "code",
   "execution_count": 48,
   "id": "7898f57d-ac41-4a21-b050-c199e8cd81a6",
   "metadata": {},
   "outputs": [
    {
     "name": "stdout",
     "output_type": "stream",
     "text": [
      "1\n",
      "2\n",
      "3\n",
      "4\n",
      "5\n",
      "6\n",
      "7\n",
      "1\n",
      "0\n"
     ]
    }
   ],
   "source": [
    "for items in ar.flat: #Using for loop with the help of flat attribute.\n",
    "    print(items)"
   ]
  },
  {
   "cell_type": "code",
   "execution_count": 49,
   "id": "6642b34e-15a5-4e2f-917c-10122b337bf1",
   "metadata": {},
   "outputs": [
    {
     "data": {
      "text/plain": [
       "2"
      ]
     },
     "execution_count": 49,
     "metadata": {},
     "output_type": "execute_result"
    }
   ],
   "source": [
    "ar.ndim #ndim will give us that number of dimension of our array."
   ]
  },
  {
   "cell_type": "code",
   "execution_count": 50,
   "id": "ebabe61c-5b6c-467a-9d69-d20e33a684a6",
   "metadata": {},
   "outputs": [
    {
     "data": {
      "text/plain": [
       "9"
      ]
     },
     "execution_count": 50,
     "metadata": {},
     "output_type": "execute_result"
    }
   ],
   "source": [
    "ar.size #prints the n umber of elements in our matrix"
   ]
  },
  {
   "cell_type": "code",
   "execution_count": 51,
   "id": "ebe6733c-9b89-4c31-9224-e6e029f4ff84",
   "metadata": {},
   "outputs": [
    {
     "data": {
      "text/plain": [
       "36"
      ]
     },
     "execution_count": 51,
     "metadata": {},
     "output_type": "execute_result"
    }
   ],
   "source": [
    "ar.nbytes #nbytes will tell that how much bytes is taken by our elements."
   ]
  },
  {
   "cell_type": "code",
   "execution_count": 52,
   "id": "9354206f-addf-400a-a453-e8076bbb46bc",
   "metadata": {},
   "outputs": [],
   "source": [
    "one = np.array([1,2,3,3737,5,7])"
   ]
  },
  {
   "cell_type": "code",
   "execution_count": 53,
   "id": "165b053a-9452-4714-b33f-c9a2eb31a070",
   "metadata": {},
   "outputs": [
    {
     "data": {
      "text/plain": [
       "0"
      ]
     },
     "execution_count": 53,
     "metadata": {},
     "output_type": "execute_result"
    }
   ],
   "source": [
    "one.argmin() #This will give the index number which will contain the minimum value ."
   ]
  },
  {
   "cell_type": "code",
   "execution_count": 54,
   "id": "81cecf98-54f8-4521-a2a3-31d867d47be9",
   "metadata": {},
   "outputs": [
    {
     "data": {
      "text/plain": [
       "3"
      ]
     },
     "execution_count": 54,
     "metadata": {},
     "output_type": "execute_result"
    }
   ],
   "source": [
    "one.argmax() #This will give the index number which will contain the maximum value."
   ]
  },
  {
   "cell_type": "code",
   "execution_count": 55,
   "id": "e3f4b170-6701-468b-8aae-e9d41332d137",
   "metadata": {},
   "outputs": [
    {
     "data": {
      "text/plain": [
       "array([0, 1, 2, 4, 5, 3], dtype=int64)"
      ]
     },
     "execution_count": 55,
     "metadata": {},
     "output_type": "execute_result"
    }
   ],
   "source": [
    "one.argsort() #This function will give the order of index number of our array such that our array will get sort in Accending order."
   ]
  },
  {
   "cell_type": "markdown",
   "id": "7dd57594-e77f-4e1e-ad3e-f5ad43fb0046",
   "metadata": {},
   "source": [
    "* Now lets check the same methods for the 2D array"
   ]
  },
  {
   "cell_type": "code",
   "execution_count": 56,
   "id": "60fb3137-7ff6-4d77-bec7-deba3b99eb24",
   "metadata": {},
   "outputs": [
    {
     "data": {
      "text/plain": [
       "array([[1, 2, 3],\n",
       "       [4, 5, 6],\n",
       "       [7, 1, 0]])"
      ]
     },
     "execution_count": 56,
     "metadata": {},
     "output_type": "execute_result"
    }
   ],
   "source": [
    "ar"
   ]
  },
  {
   "cell_type": "code",
   "execution_count": 57,
   "id": "3951499e-169f-495e-8f54-067a323e6390",
   "metadata": {},
   "outputs": [
    {
     "data": {
      "text/plain": [
       "8"
      ]
     },
     "execution_count": 57,
     "metadata": {},
     "output_type": "execute_result"
    }
   ],
   "source": [
    "ar.argmin() #This method will convert our 2D array as 1D array and then print the index number which has the minimum value"
   ]
  },
  {
   "cell_type": "code",
   "execution_count": 58,
   "id": "53fc7b09-d843-4b3e-b17e-d2975f6a53ce",
   "metadata": {},
   "outputs": [
    {
     "data": {
      "text/plain": [
       "6"
      ]
     },
     "execution_count": 58,
     "metadata": {},
     "output_type": "execute_result"
    }
   ],
   "source": [
    "ar.argmax() #Same as argmin() method but it will print the index number which contain the maximum value."
   ]
  },
  {
   "cell_type": "code",
   "execution_count": 60,
   "id": "74c13d5f-7155-4db4-806e-b43e0526bc88",
   "metadata": {},
   "outputs": [
    {
     "data": {
      "text/plain": [
       "array([0, 2, 2], dtype=int64)"
      ]
     },
     "execution_count": 60,
     "metadata": {},
     "output_type": "execute_result"
    }
   ],
   "source": [
    "ar.argmin(axis = 0) #Now here It will check the row wise and then give the index numbers which contain minimum value."
   ]
  },
  {
   "cell_type": "code",
   "execution_count": 61,
   "id": "0fbdd82c-5d03-4c25-b3ec-2a8f490ba1fe",
   "metadata": {},
   "outputs": [
    {
     "data": {
      "text/plain": [
       "array([2, 2, 0], dtype=int64)"
      ]
     },
     "execution_count": 61,
     "metadata": {},
     "output_type": "execute_result"
    }
   ],
   "source": [
    "ar.argmax(axis = 1) #Now here it will check the column wise and then give the index numbers which contain maximum value."
   ]
  },
  {
   "cell_type": "code",
   "execution_count": 62,
   "id": "7eb0ba2d-4449-4852-82ab-346988e850d7",
   "metadata": {},
   "outputs": [
    {
     "data": {
      "text/plain": [
       "array([[0, 1, 2],\n",
       "       [0, 1, 2],\n",
       "       [2, 1, 0]], dtype=int64)"
      ]
     },
     "execution_count": 62,
     "metadata": {},
     "output_type": "execute_result"
    }
   ],
   "source": [
    "ar.argsort() #check output by yourself"
   ]
  },
  {
   "cell_type": "code",
   "execution_count": 63,
   "id": "58d3b38a-204a-463a-a7e4-c0f3498a2748",
   "metadata": {},
   "outputs": [
    {
     "data": {
      "text/plain": [
       "array([[0, 2, 2],\n",
       "       [1, 0, 0],\n",
       "       [2, 1, 1]], dtype=int64)"
      ]
     },
     "execution_count": 63,
     "metadata": {},
     "output_type": "execute_result"
    }
   ],
   "source": [
    "ar.argsort(axis = 0) "
   ]
  },
  {
   "cell_type": "code",
   "execution_count": 64,
   "id": "5c00a7df-95cd-4b21-9fa5-d2f78a3e04f5",
   "metadata": {},
   "outputs": [
    {
     "data": {
      "text/plain": [
       "array([[0, 1, 2],\n",
       "       [0, 1, 2],\n",
       "       [2, 1, 0]], dtype=int64)"
      ]
     },
     "execution_count": 64,
     "metadata": {},
     "output_type": "execute_result"
    }
   ],
   "source": [
    "ar.argsort(axis = 1)"
   ]
  },
  {
   "cell_type": "code",
   "execution_count": 92,
   "id": "1cbceb08-cbd3-4565-95cc-a51890123f5d",
   "metadata": {},
   "outputs": [
    {
     "data": {
      "text/plain": [
       "[[1, 2, 3], [4, 5, 6], [7, 1, 0]]"
      ]
     },
     "execution_count": 92,
     "metadata": {},
     "output_type": "execute_result"
    }
   ],
   "source": [
    "ar.tolist() #This will return the numpy array to python list"
   ]
  },
  {
   "cell_type": "markdown",
   "id": "1fbfa7f8-f971-4367-968c-9666d5086ef0",
   "metadata": {},
   "source": [
    "# Mathemetical Operation provide by numpy to perform on numpy array"
   ]
  },
  {
   "cell_type": "code",
   "execution_count": 65,
   "id": "3e315432-fabf-48c2-b21b-aee17b79a2de",
   "metadata": {},
   "outputs": [
    {
     "data": {
      "text/plain": [
       "array([[1, 2, 3],\n",
       "       [4, 5, 6],\n",
       "       [7, 1, 0]])"
      ]
     },
     "execution_count": 65,
     "metadata": {},
     "output_type": "execute_result"
    }
   ],
   "source": [
    "ar"
   ]
  },
  {
   "cell_type": "code",
   "execution_count": 66,
   "id": "c8e451b5-cc1a-4ef3-954f-124a7d22a8f4",
   "metadata": {},
   "outputs": [],
   "source": [
    "ar2 = np.array([[1, 2, 1],\n",
    "       [4, 0, 6],\n",
    "       [8, 1, 0]])"
   ]
  },
  {
   "cell_type": "code",
   "execution_count": 67,
   "id": "07220889-0f55-4f9d-bfe1-79bf6dbf4aa1",
   "metadata": {},
   "outputs": [
    {
     "data": {
      "text/plain": [
       "array([[1, 2, 1],\n",
       "       [4, 0, 6],\n",
       "       [8, 1, 0]])"
      ]
     },
     "execution_count": 67,
     "metadata": {},
     "output_type": "execute_result"
    }
   ],
   "source": [
    "ar2"
   ]
  },
  {
   "cell_type": "code",
   "execution_count": 68,
   "id": "622c9259-a0e7-4f4c-b47c-1aa48a1c40fa",
   "metadata": {},
   "outputs": [
    {
     "data": {
      "text/plain": [
       "array([[ 2,  4,  4],\n",
       "       [ 8,  5, 12],\n",
       "       [15,  2,  0]])"
      ]
     },
     "execution_count": 68,
     "metadata": {},
     "output_type": "execute_result"
    }
   ],
   "source": [
    "ar + ar2 #Additon of matrix"
   ]
  },
  {
   "cell_type": "code",
   "execution_count": 69,
   "id": "588c25bc-7f1b-4aba-b807-495b213a3e30",
   "metadata": {},
   "outputs": [
    {
     "data": {
      "text/plain": [
       "array([[ 0,  0,  2],\n",
       "       [ 0,  5,  0],\n",
       "       [-1,  0,  0]])"
      ]
     },
     "execution_count": 69,
     "metadata": {},
     "output_type": "execute_result"
    }
   ],
   "source": [
    "ar - ar2 #Subtraction of matrix"
   ]
  },
  {
   "cell_type": "code",
   "execution_count": 70,
   "id": "fdf89618-a04d-4136-8354-760ac4b0c814",
   "metadata": {},
   "outputs": [
    {
     "data": {
      "text/plain": [
       "array([[ 1,  4,  3],\n",
       "       [16,  0, 36],\n",
       "       [56,  1,  0]])"
      ]
     },
     "execution_count": 70,
     "metadata": {},
     "output_type": "execute_result"
    }
   ],
   "source": [
    "ar * ar2 #Multiplication of matrix"
   ]
  },
  {
   "cell_type": "code",
   "execution_count": 71,
   "id": "5f9c9b0d-e236-4692-be43-bcb973fe06c5",
   "metadata": {},
   "outputs": [
    {
     "data": {
      "text/plain": [
       "array([[1.        , 1.41421356, 1.73205081],\n",
       "       [2.        , 2.23606798, 2.44948974],\n",
       "       [2.64575131, 1.        , 0.        ]])"
      ]
     },
     "execution_count": 71,
     "metadata": {},
     "output_type": "execute_result"
    }
   ],
   "source": [
    "np.sqrt(ar) #This will give the square root of the array."
   ]
  },
  {
   "cell_type": "code",
   "execution_count": 72,
   "id": "96baaf25-9891-445c-89cb-1c55022a5cad",
   "metadata": {},
   "outputs": [
    {
     "data": {
      "text/plain": [
       "23"
      ]
     },
     "execution_count": 72,
     "metadata": {},
     "output_type": "execute_result"
    }
   ],
   "source": [
    "ar2.sum() #will give the sum of all the values present in numpy array."
   ]
  },
  {
   "cell_type": "code",
   "execution_count": 73,
   "id": "7173fad7-bbca-474a-ab14-f8df505e278b",
   "metadata": {},
   "outputs": [
    {
     "data": {
      "text/plain": [
       "0"
      ]
     },
     "execution_count": 73,
     "metadata": {},
     "output_type": "execute_result"
    }
   ],
   "source": [
    "ar2.min() #give the minumum value of a matrix."
   ]
  },
  {
   "cell_type": "code",
   "execution_count": 74,
   "id": "802cb08b-fc47-44b3-9ede-53ff8de88342",
   "metadata": {},
   "outputs": [
    {
     "data": {
      "text/plain": [
       "8"
      ]
     },
     "execution_count": 74,
     "metadata": {},
     "output_type": "execute_result"
    }
   ],
   "source": [
    "ar2.max()#give the maximum value of a matrix."
   ]
  },
  {
   "cell_type": "code",
   "execution_count": 75,
   "id": "b8ca6882-091d-4af6-ba6c-6d6e803b9bd4",
   "metadata": {},
   "outputs": [
    {
     "data": {
      "text/plain": [
       "array([[1, 2, 1],\n",
       "       [4, 0, 6],\n",
       "       [8, 1, 0]])"
      ]
     },
     "execution_count": 75,
     "metadata": {},
     "output_type": "execute_result"
    }
   ],
   "source": [
    "ar2"
   ]
  },
  {
   "cell_type": "code",
   "execution_count": 81,
   "id": "1ac3a539-6c96-415c-a249-237a27519529",
   "metadata": {},
   "outputs": [
    {
     "data": {
      "text/plain": [
       "(array([1, 2], dtype=int64), array([2, 0], dtype=int64))"
      ]
     },
     "execution_count": 81,
     "metadata": {},
     "output_type": "execute_result"
    }
   ],
   "source": [
    "np.where(ar2>5) #This will return the touple of array as output\n",
    "               #This will find the element for me in 'ar' array which are greater then 5."
   ]
  },
  {
   "cell_type": "code",
   "execution_count": 82,
   "id": "096c0fef-0197-4791-a84a-0f58bead8213",
   "metadata": {},
   "outputs": [
    {
     "data": {
      "text/plain": [
       "(array([0, 0, 1, 2, 2], dtype=int64), array([0, 2, 1, 1, 2], dtype=int64))"
      ]
     },
     "execution_count": 82,
     "metadata": {},
     "output_type": "execute_result"
    }
   ],
   "source": [
    "np.where(ar2<=1)"
   ]
  },
  {
   "cell_type": "code",
   "execution_count": 83,
   "id": "a58ba9a2-a2f6-4fea-b841-9fcca338d3f0",
   "metadata": {},
   "outputs": [
    {
     "data": {
      "text/plain": [
       "tuple"
      ]
     },
     "execution_count": 83,
     "metadata": {},
     "output_type": "execute_result"
    }
   ],
   "source": [
    "type(np.where(ar<=1)) #see the type is tuple."
   ]
  },
  {
   "cell_type": "code",
   "execution_count": 84,
   "id": "4843de56-fd6b-4540-b501-0cd3ff441879",
   "metadata": {},
   "outputs": [
    {
     "data": {
      "text/plain": [
       "7"
      ]
     },
     "execution_count": 84,
     "metadata": {},
     "output_type": "execute_result"
    }
   ],
   "source": [
    "np.count_nonzero(ar2) #This will give the count or number of elements that are non zero."
   ]
  },
  {
   "cell_type": "code",
   "execution_count": 85,
   "id": "e0f36951-47e7-4cc4-8672-e8171292fb82",
   "metadata": {},
   "outputs": [
    {
     "data": {
      "text/plain": [
       "(array([0, 0, 0, 1, 1, 2, 2], dtype=int64),\n",
       " array([0, 1, 2, 0, 2, 0, 1], dtype=int64))"
      ]
     },
     "execution_count": 85,
     "metadata": {},
     "output_type": "execute_result"
    }
   ],
   "source": [
    "np.nonzero(ar2) #This will give the tuple for every dimension of an array.ex->[0,0] will have a non zero value."
   ]
  },
  {
   "cell_type": "markdown",
   "id": "9d83d979-e774-42db-8365-168c161c8ff1",
   "metadata": {},
   "source": [
    "* Now lets compare the list size of python and numpy array"
   ]
  },
  {
   "cell_type": "code",
   "execution_count": 86,
   "id": "a7397b4e-8b08-4839-addd-dd792ab3defe",
   "metadata": {},
   "outputs": [],
   "source": [
    "import sys"
   ]
  },
  {
   "cell_type": "code",
   "execution_count": 87,
   "id": "8c1afb03-d287-430f-95d5-9195cc7b60b1",
   "metadata": {},
   "outputs": [],
   "source": [
    "python_arr = [0,4,55,2]"
   ]
  },
  {
   "cell_type": "code",
   "execution_count": 89,
   "id": "fd90627a-9794-46c0-a4e1-25950724b998",
   "metadata": {},
   "outputs": [],
   "source": [
    "numpy_arr = np.array(python_arr)"
   ]
  },
  {
   "cell_type": "code",
   "execution_count": 90,
   "id": "ad2b8571-dfa9-4b42-ba01-cdd6c77126f4",
   "metadata": {},
   "outputs": [
    {
     "data": {
      "text/plain": [
       "112"
      ]
     },
     "execution_count": 90,
     "metadata": {},
     "output_type": "execute_result"
    }
   ],
   "source": [
    "sys.getsizeof(1)*len(python_arr) #This will print the size ocupies by all the elements of python array(list)"
   ]
  },
  {
   "cell_type": "code",
   "execution_count": 91,
   "id": "538d5eac-8216-48ab-ae77-56a8920b8a80",
   "metadata": {},
   "outputs": [
    {
     "data": {
      "text/plain": [
       "16"
      ]
     },
     "execution_count": 91,
     "metadata": {},
     "output_type": "execute_result"
    }
   ],
   "source": [
    "numpy_arr.itemsize * numpy_arr.size #This will print the size ocupies by all the elements of numpy array"
   ]
  },
  {
   "cell_type": "markdown",
   "id": "16a50467-9f78-4521-a083-442282addbfc",
   "metadata": {},
   "source": [
    "# https://docs.scipy.org/doc/numpy-1.6.0/reference/generated/numpy.ndarray.html  \n",
    "# TAKE REFERENCE FROM THE LINK ORIGNAL DOCUMENTATION."
   ]
  },
  {
   "cell_type": "code",
   "execution_count": null,
   "id": "9f504032-3676-4bd6-b6ed-e7f270a45a50",
   "metadata": {},
   "outputs": [],
   "source": []
  }
 ],
 "metadata": {
  "kernelspec": {
   "display_name": "Python 3 (ipykernel)",
   "language": "python",
   "name": "python3"
  },
  "language_info": {
   "codemirror_mode": {
    "name": "ipython",
    "version": 3
   },
   "file_extension": ".py",
   "mimetype": "text/x-python",
   "name": "python",
   "nbconvert_exporter": "python",
   "pygments_lexer": "ipython3",
   "version": "3.12.3"
  }
 },
 "nbformat": 4,
 "nbformat_minor": 5
}
