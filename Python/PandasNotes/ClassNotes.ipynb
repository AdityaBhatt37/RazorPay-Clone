{
 "cells": [
  {
   "cell_type": "markdown",
   "id": "e4d80a1a-1465-4233-9c29-9c45b536d3c3",
   "metadata": {},
   "source": [
    "# COMPONENTS OF PANDAS\n",
    "->The primary two components of pandas are ther Series and DataFrame.\n",
    "->Series is a one-dimensional array ."
   ]
  },
  {
   "cell_type": "code",
   "execution_count": 1,
   "id": "a8d0d264-4145-4d10-b9b9-6933d1876551",
   "metadata": {},
   "outputs": [],
   "source": [
    "import pandas as pd\n",
    "import numpy as np"
   ]
  },
  {
   "cell_type": "code",
   "execution_count": 2,
   "id": "1e5efff5-8b80-4990-9962-bbb5d8182ee5",
   "metadata": {},
   "outputs": [
    {
     "name": "stdout",
     "output_type": "stream",
     "text": [
      "0    11\n",
      "1    22\n",
      "2    13\n",
      "3    14\n",
      "4    15\n",
      "dtype: int64\n",
      "<class 'pandas.core.series.Series'>\n"
     ]
    }
   ],
   "source": [
    "l1 = [11,22,13,14,15]\n",
    "s = pd.Series(l1)\n",
    "print(s)\n",
    "print(type(s))"
   ]
  },
  {
   "cell_type": "code",
   "execution_count": 3,
   "id": "4a3946e4-5933-4b47-a02b-1fb1701a363a",
   "metadata": {},
   "outputs": [],
   "source": [
    "myDick = {\n",
    "    \"name\" : ['Prachi','Akansha','Nikita'],\n",
    "     \"roll\" : [34,4,29],\n",
    "     \"Marks\" :[90,90,90]\n",
    "}"
   ]
  },
  {
   "cell_type": "code",
   "execution_count": 4,
   "id": "9e9c8fd5-575b-4abb-a98c-cb1c5840426c",
   "metadata": {},
   "outputs": [],
   "source": [
    "DataF = pd.DataFrame(myDick)\n"
   ]
  },
  {
   "cell_type": "code",
   "execution_count": 5,
   "id": "0eca5637-985e-42af-8c02-8ddba318bd21",
   "metadata": {},
   "outputs": [
    {
     "name": "stdout",
     "output_type": "stream",
     "text": [
      "      name  roll  Marks\n",
      "0   Prachi    34     90\n",
      "1  Akansha     4     90\n",
      "2   Nikita    29     90\n"
     ]
    }
   ],
   "source": [
    "print(DataF)"
   ]
  },
  {
   "cell_type": "code",
   "execution_count": 6,
   "id": "95bcd00a-ad67-4c0a-b92a-d642bb16aec6",
   "metadata": {},
   "outputs": [],
   "source": [
    "lisp = [[1,2,3,4,5],[6,7,8,9,10],[11,12,13,14],[15,16,17,18]]"
   ]
  },
  {
   "cell_type": "code",
   "execution_count": 7,
   "id": "5e28c2dc-7c16-4a63-ae8f-c6f239a9ddbd",
   "metadata": {},
   "outputs": [],
   "source": [
    "lispD = pd.DataFrame(lisp)"
   ]
  },
  {
   "cell_type": "code",
   "execution_count": 8,
   "id": "8ed3d2d9-0970-4e43-94bc-8ba624737b33",
   "metadata": {},
   "outputs": [
    {
     "name": "stdout",
     "output_type": "stream",
     "text": [
      "    0   1   2   3     4\n",
      "0   1   2   3   4   5.0\n",
      "1   6   7   8   9  10.0\n",
      "2  11  12  13  14   NaN\n",
      "3  15  16  17  18   NaN\n"
     ]
    }
   ],
   "source": [
    "print(lispD)"
   ]
  },
  {
   "cell_type": "code",
   "execution_count": 11,
   "id": "3cd71910-7267-42f6-af8e-eecc899232bf",
   "metadata": {},
   "outputs": [
    {
     "name": "stdout",
     "output_type": "stream",
     "text": [
      "<class 'numpy.ndarray'>\n",
      "100    11\n",
      "101    22\n",
      "102    33\n",
      "103    44\n",
      "104    55\n",
      "105    66\n",
      "106    77\n",
      "dtype: int32\n"
     ]
    }
   ],
   "source": [
    "var1 = np.array([11,22,33,44,55,66,77])\n",
    "print(type(var1))\n",
    "index1 = [100,101,102,103,104,105,106]\n",
    "s = pd.Series(var1,index1)\n",
    "index1 = ['a','b','c','d','e','f','g']\n",
    "print(s)"
   ]
  },
  {
   "cell_type": "code",
   "execution_count": null,
   "id": "b6f84c2e-0cc8-4fc0-b2de-047a88008431",
   "metadata": {},
   "outputs": [],
   "source": [
    "dic1 = {'nm':'abc', 'rno': 11, 'sgpa' : 7.32}\n",
    "s = pd.Series(dic1)\n",
    "print(s)\n",
    "print(\"sgpa of this semester is \", s['sgpa'])\n",
    "print(s[2])"
   ]
  },
  {
   "cell_type": "code",
   "execution_count": null,
   "id": "49f2ba19-ed35-4a67-8209-d491bb36c8f4",
   "metadata": {},
   "outputs": [],
   "source": [
    "data = [[1,2,3,4,5],[6,7,8,9,10],[11,12,13,14],[15,16,17,18]]\n",
    "df = pd.DataFrame(data,columns=['a','b','c','d','e'])\n",
    "print(df)"
   ]
  },
  {
   "cell_type": "code",
   "execution_count": 12,
   "id": "f38e48be-fcf8-4b78-b088-9fc0e0da9270",
   "metadata": {},
   "outputs": [
    {
     "name": "stdout",
     "output_type": "stream",
     "text": [
      "   rno   nm  cou\n",
      "0   11  abc  bca\n",
      "1    1  123   ca\n",
      "2    8  xyz   bt\n",
      "<class 'pandas.core.frame.DataFrame'>\n"
     ]
    }
   ],
   "source": [
    "dat = [{'rno':11,'nm':'abc','cou':'bca'},{'rno':1,'nm':'123','cou':'ca'},{'rno':8,'nm':'xyz','cou':'bt'}]\n",
    "df = pd.DataFrame(dat)\n",
    "print(df)\n",
    "print(type(df))\n"
   ]
  },
  {
   "cell_type": "code",
   "execution_count": null,
   "id": "f925efab-9dd0-4405-9189-75c57ea2da4d",
   "metadata": {},
   "outputs": [],
   "source": []
  }
 ],
 "metadata": {
  "kernelspec": {
   "display_name": "Python 3 (ipykernel)",
   "language": "python",
   "name": "python3"
  },
  "language_info": {
   "codemirror_mode": {
    "name": "ipython",
    "version": 3
   },
   "file_extension": ".py",
   "mimetype": "text/x-python",
   "name": "python",
   "nbconvert_exporter": "python",
   "pygments_lexer": "ipython3",
   "version": "3.12.3"
  }
 },
 "nbformat": 4,
 "nbformat_minor": 5
}
